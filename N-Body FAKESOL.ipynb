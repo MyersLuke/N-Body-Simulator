{
 "cells": [
  {
   "cell_type": "code",
   "execution_count": 8,
   "metadata": {},
   "outputs": [],
   "source": [
    "%matplotlib notebook"
   ]
  },
  {
   "cell_type": "code",
   "execution_count": 9,
   "metadata": {},
   "outputs": [],
   "source": [
    "import numpy as np\n",
    "from matplotlib import pyplot\n",
    "import astropy.constants\n",
    "from mpl_toolkits.mplot3d import Axes3D\n",
    "from matplotlib.animation import FuncAnimation"
   ]
  },
  {
   "cell_type": "code",
   "execution_count": 10,
   "metadata": {},
   "outputs": [],
   "source": [
    "def magnitude(vector):\n",
    "    return np.sqrt(vector[0] ** 2.0 + vector[1] ** 2.0 + vector[2] ** 2.0)"
   ]
  },
  {
   "cell_type": "code",
   "execution_count": 20,
   "metadata": {},
   "outputs": [],
   "source": [
    "class Particle(object):\n",
    "    def __init__(self, initial_position, initial_velocity, mass, number_time_steps):\n",
    "        self.position = np.zeros((number_time_steps, 3))\n",
    "        self.position[0] = initial_position\n",
    "        self.velocity =  np.zeros((number_time_steps, 3))\n",
    "        self.velocity[0] = initial_velocity\n",
    "        self.acceleration = np.zeros((number_time_steps, 3))\n",
    "        self.mass = mass\n",
    "        self.pvec = np.zeros((number_time_steps, 3))\n",
    "        self.pvec[0] = mass * np.cross(initial_position, initial_velocity)\n",
    "        self.pmag = np.zeros((number_time_steps, 1))\n",
    "        self.pmag[0] = magnitude(mass * np.cross(initial_position, initial_velocity))\n",
    "        self.emag = np.zeros((number_time_steps, 1))\n",
    "        self.speed = np.zeros((number_time_steps, 1))\n",
    "        self.speed[0] = magnitude(initial_velocity)\n",
    "        self.distance = np.zeros((number_time_steps, 1))\n",
    "        self.distance[0] = 0\n",
    "        \n",
    "    def update_position(self, t):\n",
    "        self.position[t] = self.position[t - 1]\n",
    "        self.position[t] += self.velocity[t - 1] * delta_t\n",
    "        self.position[t] += 0.5 * self.acceleration[t - 1] * delta_t * delta_t\n",
    "    \n",
    "    def update_velocity(self, t):\n",
    "        self.velocity[t] = self.velocity[t - 1]\n",
    "        self.velocity[t] += 0.5 * delta_t * (self.acceleration[t] + self.acceleration[t - 1])\n",
    "    \n",
    "    def update_acceleration(self, t, particles):\n",
    "        for particle in particles:\n",
    "            if particle != self:\n",
    "                r12 = particle.vector_to(self.position, t)\n",
    "                self.acceleration[t] += G * np.asarray(particle.mass) * r12 / magnitude(r12) ** 3.0\n",
    "        \n",
    "    def vector_to(self, position1, t):\n",
    "        return self.position[t] - position1[t]\n",
    "    \n",
    "    def p_vector(self, t):\n",
    "        self.pvec[t] = self.mass * np.cross(self.position[t], self.velocity[t])\n",
    "        \n",
    "    def p_magnitude(self, t):\n",
    "        self.pmag[t] = magnitude(self.pvec[t])\n",
    "        \n",
    "    def e_magnitude(self, t, particles):\n",
    "        for particle in particles:\n",
    "            if particle != self:\n",
    "                r12 = particle.vector_to(self.position, t)\n",
    "                self.emag[t] = 0.5 * self.mass * np.dot(self.velocity[t], self.velocity[t]) -G * self.mass * np.asarray(particle.mass) / magnitude(r12)\n",
    "                \n",
    "    def update_speed(self, t):\n",
    "        self.speed[t] = magnitude(self.velocity[t])\n",
    "        \n",
    "    def distance(self, t):\n",
    "        self.distance[t] = self.distance[t - 1] + self.speed[t - 1] * delta_t"
   ]
  },
  {
   "cell_type": "markdown",
   "metadata": {},
   "source": [
    "Distances in Au, Speeds in Au/day, Times in days"
   ]
  },
  {
   "cell_type": "code",
   "execution_count": 12,
   "metadata": {},
   "outputs": [],
   "source": [
    "number_of_time_steps =15000\n",
    "delta_t = 1.0\n",
    "G = astropy.constants.G.to('AU**3 / (day**2 * earthMass)').value"
   ]
  },
  {
   "cell_type": "code",
   "execution_count": 14,
   "metadata": {},
   "outputs": [
    {
     "ename": "TypeError",
     "evalue": "__init__() missing 4 required positional arguments: 'initial_position', 'initial_velocity', 'mass', and 'number_time_steps'",
     "output_type": "error",
     "traceback": [
      "\u001b[1;31m---------------------------------------------------------------------------\u001b[0m",
      "\u001b[1;31mTypeError\u001b[0m                                 Traceback (most recent call last)",
      "\u001b[1;32m<ipython-input-14-048f8f1e98b2>\u001b[0m in \u001b[0;36m<module>\u001b[1;34m()\u001b[0m\n\u001b[1;32m----> 1\u001b[1;33m \u001b[0msun\u001b[0m \u001b[1;33m=\u001b[0m \u001b[0mParticle\u001b[0m\u001b[1;33m(\u001b[0m\u001b[1;33m)\u001b[0m\u001b[1;33m\u001b[0m\u001b[0m\n\u001b[0m",
      "\u001b[1;31mTypeError\u001b[0m: __init__() missing 4 required positional arguments: 'initial_position', 'initial_velocity', 'mass', and 'number_time_steps'"
     ]
    }
   ],
   "source": [
    "sun = Particle()"
   ]
  },
  {
   "cell_type": "code",
   "execution_count": 15,
   "metadata": {},
   "outputs": [
    {
     "ename": "TypeError",
     "evalue": "__init__() missing 4 required positional arguments: 'initial_position', 'initial_velocity', 'mass', and 'number_time_steps'",
     "output_type": "error",
     "traceback": [
      "\u001b[1;31m---------------------------------------------------------------------------\u001b[0m",
      "\u001b[1;31mTypeError\u001b[0m                                 Traceback (most recent call last)",
      "\u001b[1;32m<ipython-input-15-c36a762963f3>\u001b[0m in \u001b[0;36m<module>\u001b[1;34m()\u001b[0m\n\u001b[1;32m----> 1\u001b[1;33m \u001b[0mpl1\u001b[0m \u001b[1;33m=\u001b[0m \u001b[0mParticle\u001b[0m\u001b[1;33m(\u001b[0m\u001b[1;33m)\u001b[0m\u001b[1;33m\u001b[0m\u001b[0m\n\u001b[0m",
      "\u001b[1;31mTypeError\u001b[0m: __init__() missing 4 required positional arguments: 'initial_position', 'initial_velocity', 'mass', and 'number_time_steps'"
     ]
    }
   ],
   "source": [
    "pl1 = Particle()"
   ]
  },
  {
   "cell_type": "code",
   "execution_count": 16,
   "metadata": {},
   "outputs": [
    {
     "ename": "TypeError",
     "evalue": "__init__() missing 4 required positional arguments: 'initial_position', 'initial_velocity', 'mass', and 'number_time_steps'",
     "output_type": "error",
     "traceback": [
      "\u001b[1;31m---------------------------------------------------------------------------\u001b[0m",
      "\u001b[1;31mTypeError\u001b[0m                                 Traceback (most recent call last)",
      "\u001b[1;32m<ipython-input-16-0265744226cc>\u001b[0m in \u001b[0;36m<module>\u001b[1;34m()\u001b[0m\n\u001b[1;32m----> 1\u001b[1;33m \u001b[0mpl2\u001b[0m \u001b[1;33m=\u001b[0m \u001b[0mParticle\u001b[0m\u001b[1;33m(\u001b[0m\u001b[1;33m)\u001b[0m\u001b[1;33m\u001b[0m\u001b[0m\n\u001b[0m",
      "\u001b[1;31mTypeError\u001b[0m: __init__() missing 4 required positional arguments: 'initial_position', 'initial_velocity', 'mass', and 'number_time_steps'"
     ]
    }
   ],
   "source": [
    "pl2 = Particle()"
   ]
  },
  {
   "cell_type": "code",
   "execution_count": null,
   "metadata": {},
   "outputs": [],
   "source": [
    "pl3 = Particle()"
   ]
  },
  {
   "cell_type": "code",
   "execution_count": null,
   "metadata": {},
   "outputs": [],
   "source": [
    "pl4 = Particle()"
   ]
  },
  {
   "cell_type": "code",
   "execution_count": 17,
   "metadata": {},
   "outputs": [
    {
     "ename": "NameError",
     "evalue": "name 'sun' is not defined",
     "output_type": "error",
     "traceback": [
      "\u001b[1;31m---------------------------------------------------------------------------\u001b[0m",
      "\u001b[1;31mNameError\u001b[0m                                 Traceback (most recent call last)",
      "\u001b[1;32m<ipython-input-17-2d1ea6440bd6>\u001b[0m in \u001b[0;36m<module>\u001b[1;34m()\u001b[0m\n\u001b[1;32m----> 1\u001b[1;33m \u001b[0mparticles\u001b[0m \u001b[1;33m=\u001b[0m \u001b[1;33m[\u001b[0m\u001b[0msun\u001b[0m\u001b[1;33m,\u001b[0m \u001b[0mpl1\u001b[0m\u001b[1;33m,\u001b[0m \u001b[0mpl2\u001b[0m\u001b[1;33m,\u001b[0m \u001b[0mpl3\u001b[0m\u001b[1;33m,\u001b[0m \u001b[0mpl3\u001b[0m\u001b[1;33m]\u001b[0m\u001b[1;33m\u001b[0m\u001b[0m\n\u001b[0m",
      "\u001b[1;31mNameError\u001b[0m: name 'sun' is not defined"
     ]
    }
   ],
   "source": [
    "particles = [sun, pl1, pl2, pl3, pl3]"
   ]
  },
  {
   "cell_type": "code",
   "execution_count": 18,
   "metadata": {},
   "outputs": [
    {
     "ename": "NameError",
     "evalue": "name 'particles' is not defined",
     "output_type": "error",
     "traceback": [
      "\u001b[1;31m---------------------------------------------------------------------------\u001b[0m",
      "\u001b[1;31mNameError\u001b[0m                                 Traceback (most recent call last)",
      "\u001b[1;32m<ipython-input-18-4d52938702be>\u001b[0m in \u001b[0;36m<module>\u001b[1;34m()\u001b[0m\n\u001b[1;32m----> 1\u001b[1;33m \u001b[1;32mfor\u001b[0m \u001b[0mparticle\u001b[0m \u001b[1;32min\u001b[0m \u001b[0mparticles\u001b[0m\u001b[1;33m:\u001b[0m\u001b[1;33m\u001b[0m\u001b[0m\n\u001b[0m\u001b[0;32m      2\u001b[0m     \u001b[0mparticle\u001b[0m\u001b[1;33m.\u001b[0m\u001b[0mupdate_acceleration\u001b[0m\u001b[1;33m(\u001b[0m\u001b[1;36m0\u001b[0m\u001b[1;33m,\u001b[0m \u001b[0mparticles\u001b[0m\u001b[1;33m)\u001b[0m\u001b[1;33m\u001b[0m\u001b[0m\n\u001b[0;32m      3\u001b[0m     \u001b[0mparticle\u001b[0m\u001b[1;33m.\u001b[0m\u001b[0me_magnitude\u001b[0m\u001b[1;33m(\u001b[0m\u001b[1;36m0\u001b[0m\u001b[1;33m,\u001b[0m \u001b[0mparticles\u001b[0m\u001b[1;33m)\u001b[0m\u001b[1;33m\u001b[0m\u001b[0m\n",
      "\u001b[1;31mNameError\u001b[0m: name 'particles' is not defined"
     ]
    }
   ],
   "source": [
    "for particle in particles:\n",
    "    particle.update_acceleration(0, particles)\n",
    "    particle.e_magnitude(0, particles)"
   ]
  },
  {
   "cell_type": "code",
   "execution_count": 21,
   "metadata": {},
   "outputs": [
    {
     "ename": "NameError",
     "evalue": "name 'particles' is not defined",
     "output_type": "error",
     "traceback": [
      "\u001b[1;31m---------------------------------------------------------------------------\u001b[0m",
      "\u001b[1;31mNameError\u001b[0m                                 Traceback (most recent call last)",
      "\u001b[1;32m<ipython-input-21-be8275859432>\u001b[0m in \u001b[0;36m<module>\u001b[1;34m()\u001b[0m\n\u001b[0;32m      1\u001b[0m \u001b[1;32mfor\u001b[0m \u001b[0mt\u001b[0m \u001b[1;32min\u001b[0m \u001b[0mnp\u001b[0m\u001b[1;33m.\u001b[0m\u001b[0marange\u001b[0m\u001b[1;33m(\u001b[0m\u001b[1;36m1\u001b[0m\u001b[1;33m,\u001b[0m \u001b[0mnumber_of_time_steps\u001b[0m\u001b[1;33m)\u001b[0m\u001b[1;33m:\u001b[0m\u001b[1;33m\u001b[0m\u001b[0m\n\u001b[1;32m----> 2\u001b[1;33m     \u001b[1;32mfor\u001b[0m \u001b[0mparticle\u001b[0m \u001b[1;32min\u001b[0m \u001b[0mparticles\u001b[0m\u001b[1;33m:\u001b[0m\u001b[1;33m\u001b[0m\u001b[0m\n\u001b[0m\u001b[0;32m      3\u001b[0m         \u001b[0mparticle\u001b[0m\u001b[1;33m.\u001b[0m\u001b[0mupdate_position\u001b[0m\u001b[1;33m(\u001b[0m\u001b[0mt\u001b[0m\u001b[1;33m)\u001b[0m\u001b[1;33m\u001b[0m\u001b[0m\n\u001b[0;32m      4\u001b[0m     \u001b[1;32mfor\u001b[0m \u001b[0mparticle\u001b[0m \u001b[1;32min\u001b[0m \u001b[0mparticles\u001b[0m\u001b[1;33m:\u001b[0m\u001b[1;33m\u001b[0m\u001b[0m\n\u001b[0;32m      5\u001b[0m         \u001b[0mparticle\u001b[0m\u001b[1;33m.\u001b[0m\u001b[0mupdate_acceleration\u001b[0m\u001b[1;33m(\u001b[0m\u001b[0mt\u001b[0m\u001b[1;33m,\u001b[0m \u001b[0mparticles\u001b[0m\u001b[1;33m)\u001b[0m\u001b[1;33m\u001b[0m\u001b[0m\n",
      "\u001b[1;31mNameError\u001b[0m: name 'particles' is not defined"
     ]
    }
   ],
   "source": [
    "for t in np.arange(1, number_of_time_steps):\n",
    "    for particle in particles:\n",
    "        particle.update_position(t)\n",
    "    for particle in particles:\n",
    "        particle.update_acceleration(t, particles)\n",
    "    for particle in particles:\n",
    "        particle.update_velocity(t)\n",
    "    for particle in particles:\n",
    "        particle.p_vector(t)\n",
    "    for particle in particles:\n",
    "        particle.p_magnitude(t)\n",
    "    for particle in particles:\n",
    "        particle.e_magnitude(t, particles)\n",
    "    for particle in particles:\n",
    "        particle.update_speed(t)\n",
    "    for particle in particles:\n",
    "        particle.distance(t)"
   ]
  },
  {
   "cell_type": "code",
   "execution_count": null,
   "metadata": {},
   "outputs": [],
   "source": []
  }
 ],
 "metadata": {
  "kernelspec": {
   "display_name": "Python 3",
   "language": "python",
   "name": "python3"
  },
  "language_info": {
   "codemirror_mode": {
    "name": "ipython",
    "version": 3
   },
   "file_extension": ".py",
   "mimetype": "text/x-python",
   "name": "python",
   "nbconvert_exporter": "python",
   "pygments_lexer": "ipython3",
   "version": "3.6.5"
  }
 },
 "nbformat": 4,
 "nbformat_minor": 2
}
