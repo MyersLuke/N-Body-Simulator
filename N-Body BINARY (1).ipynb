{
 "cells": [
  {
   "cell_type": "code",
   "execution_count": 1,
   "metadata": {},
   "outputs": [],
   "source": [
    "%matplotlib notebook"
   ]
  },
  {
   "cell_type": "code",
   "execution_count": 2,
   "metadata": {},
   "outputs": [],
   "source": [
    "import numpy as np\n",
    "from matplotlib import pyplot\n",
    "import astropy.constants\n",
    "from mpl_toolkits.mplot3d import Axes3D\n",
    "from matplotlib.animation import FuncAnimation"
   ]
  },
  {
   "cell_type": "code",
   "execution_count": 11,
   "metadata": {},
   "outputs": [],
   "source": [
    "class Particle(object):\n",
    "    def __init__(self, initial_position, initial_velocity, initial_pvec, initial_pmag, mass, number_time_steps):\n",
    "        self.position = np.zeros((number_time_steps, 3))\n",
    "        self.position[0] = initial_position\n",
    "        self.velocity =  np.zeros((number_time_steps, 3))\n",
    "        self.velocity[0] = initial_velocity\n",
    "        self.acceleration = np.zeros((number_time_steps, 3))\n",
    "        self.mass = mass\n",
    "        self.pvec = np.zeros((number_time_steps, 3))\n",
    "        self.pvec[0] = initial_pvec\n",
    "        self.pmag = np.zeros((number_time_steps, 1))\n",
    "        self.pmag[0] = initial_pmag\n",
    "        self.emag = np.zeros((number_time_steps, 1))\n",
    "        \n",
    "    def update_position(self, t):\n",
    "        self.position[t] = self.position[t - 1]\n",
    "        self.position[t] += self.velocity[t - 1] * delta_t\n",
    "        self.position[t] += 0.5 * self.acceleration[t - 1] * delta_t * delta_t\n",
    "    \n",
    "    def update_velocity(self, t):\n",
    "        self.velocity[t] = self.velocity[t - 1]\n",
    "        self.velocity[t] += 0.5 * delta_t * (self.acceleration[t] + self.acceleration[t - 1])\n",
    "    \n",
    "    def update_acceleration(self, t, particles):\n",
    "        for particle in particles:\n",
    "            if particle != self:\n",
    "                r12 = particle.vector_to(self.position, t)\n",
    "                self.acceleration[t] += G * np.asarray(particle.mass) * r12 / magnitude(r12) ** 3.0\n",
    "        \n",
    "    def vector_to(self, position1, t):\n",
    "        return self.position[t] - position1[t]\n",
    "    \n",
    "    def p_vector(self, t):\n",
    "        self.hvec[t] = self.mass * np.cross(self.position[t], self.velocity[t])\n",
    "        \n",
    "    def p_magnitude(self, t):\n",
    "        self.hmag[t] = magnitude(self.hvec[t])\n",
    "        \n",
    "    def e_magnitude(self, t, particles):\n",
    "        #self.emag[t] = 0.5 * self.mass * np.dot(self.velocity[t], self.velocity[t]) - self.mass * magnitude(r12) ** 2.0 * self.acceleration[t]\n",
    "        for particle in particles:\n",
    "            if particle != self:\n",
    "                r12 = particle.vector_to(self.position, t)\n",
    "                self.emag[t] = 0.5 * self.mass * np.dot(self.velocity[t], self.velocity[t]) -G * self.mass * np.asarray(particle.mass) / magnitude(r12)"
   ]
  },
  {
   "cell_type": "code",
   "execution_count": 4,
   "metadata": {},
   "outputs": [],
   "source": [
    "def magnitude(vector):\n",
    "    return np.sqrt(vector[0] ** 2.0 + vector[1] ** 2.0 + vector[2] ** 2.0)"
   ]
  },
  {
   "cell_type": "markdown",
   "metadata": {},
   "source": [
    "Distances in Au, Speeds in Au/day, Times in days"
   ]
  },
  {
   "cell_type": "code",
   "execution_count": 5,
   "metadata": {},
   "outputs": [],
   "source": [
    "number_of_time_steps =10000\n",
    "delta_t = 1.0\n",
    "G = astropy.constants.G.to('AU**3 / (day**2 * earthMass)').value"
   ]
  },
  {
   "cell_type": "code",
   "execution_count": 6,
   "metadata": {},
   "outputs": [],
   "source": [
    "#define particles"
   ]
  },
  {
   "cell_type": "code",
   "execution_count": null,
   "metadata": {},
   "outputs": [],
   "source": [
    "alpha = np.array([[np.cos(np.deg2rad(113.834)), -np.sin(np.deg2rad(113.834)), 0], [np.sin(np.deg2rad(113.834)), np.cos(np.deg2rad(113.834)), 0], [0, 0, 1]])\n",
    "beta = np.array([[np.cos(np.deg2rad(17.16)), 0, np.sin(np.deg2rad(17.16))], [0, 1, 0], [-np.sin(np.deg2rad(17.16)), 0, np.cos(np.deg2rad(17.16))]])\n",
    "both = np.matmul(alpha, beta)\n",
    "\n",
    "plua = 39.48 \n",
    "plue = 0.2488\n",
    "plub = plua * (1 - plue) ** 0.5\n",
    "plutheta = 0\n",
    "\n",
    "plux = -plua * plue + plua * np.cos(plutheta)\n",
    "pluy = plub * np.sin(plutheta)\n",
    "pluz = 0\n",
    "\n",
    "pluX = [plux, pluy, pluz]\n",
    "\n",
    "pluvec = (both * pluX)[:, 0]"
   ]
  },
  {
   "cell_type": "code",
   "execution_count": 7,
   "metadata": {},
   "outputs": [],
   "source": [
    "particles = []"
   ]
  },
  {
   "cell_type": "code",
   "execution_count": 8,
   "metadata": {},
   "outputs": [],
   "source": [
    "for particle in particles:\n",
    "    particle.update_acceleration(0, particles)\n",
    "    particle.e_magnitude(0, particles)"
   ]
  },
  {
   "cell_type": "code",
   "execution_count": 9,
   "metadata": {},
   "outputs": [],
   "source": [
    "for t in np.arange(1, number_of_time_steps):\n",
    "    for particle in particles:\n",
    "        particle.update_position(t)\n",
    "    for particle in particles:\n",
    "        particle.update_acceleration(t, particles)\n",
    "    for particle in particles:\n",
    "        particle.update_velocity(t)\n",
    "    for particle in particles:\n",
    "        particle.p_vector(t)\n",
    "    for particle in particles:\n",
    "        particle.p_magnitude(t)\n",
    "    for particle in particles:\n",
    "        particle.e_magnitude(t, particles)"
   ]
  },
  {
   "cell_type": "code",
   "execution_count": null,
   "metadata": {},
   "outputs": [],
   "source": []
  }
 ],
 "metadata": {
  "kernelspec": {
   "display_name": "Python 3",
   "language": "python",
   "name": "python3"
  },
  "language_info": {
   "codemirror_mode": {
    "name": "ipython",
    "version": 3
   },
   "file_extension": ".py",
   "mimetype": "text/x-python",
   "name": "python",
   "nbconvert_exporter": "python",
   "pygments_lexer": "ipython3",
   "version": "3.6.5"
  }
 },
 "nbformat": 4,
 "nbformat_minor": 2
}
